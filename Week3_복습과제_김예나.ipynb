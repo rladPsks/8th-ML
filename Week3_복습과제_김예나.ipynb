{
  "cells": [
    {
      "cell_type": "markdown",
      "metadata": {
        "id": "xcoWHDSmdmbL"
      },
      "source": [
        "# **1.분류 & 결정 트리**"
      ]
    },
    {
      "cell_type": "markdown",
      "metadata": {
        "id": "wh3yODPCdmbN"
      },
      "source": [
        "## 문제 1: 다른 데이터셋 (Digits) 활용\n",
        "- `sklearn.datasets.load_digits()`을 사용하여 `Digits` 데이터셋을 불러오세요.\n",
        "- `DecisionTreeClassifier` 모델을 학습한 후 테스트 데이터에 대해 예측하고, 정확도를 출력하세요"
      ]
    },
    {
      "cell_type": "code",
      "execution_count": null,
      "metadata": {
        "colab": {
          "base_uri": "https://localhost:8080/"
        },
        "id": "fln7rb8YdmbN",
        "outputId": "8cd8d3bd-a719-4a43-c35f-7bcd12f6baa3"
      },
      "outputs": [
        {
          "output_type": "stream",
          "name": "stdout",
          "text": [
            "Decision Tree Classifier Accuracy:0.8417\n"
          ]
        }
      ],
      "source": [
        "from sklearn.datasets import load_digits\n",
        "from sklearn.model_selection import train_test_split\n",
        "from sklearn.tree import DecisionTreeClassifier\n",
        "from sklearn.metrics import accuracy_score\n",
        "\n",
        "# 문제 1: 데이터셋 (Digits) 활용\n",
        "# 답안\n",
        "digits = load_digits()\n",
        "X, y = digits.data, digits.target\n",
        "\n",
        "#데이터셋 분리\n",
        "X_train, X_test, y_train, y_test = train_test_split(X, y, test_size = 0.2, random_state = 42)\n",
        "\n",
        "#의사결정 나무 분류\n",
        "clf = DecisionTreeClassifier(random_state = 42)\n",
        "clf.fit(X_train, y_train)\n",
        "\n",
        "#예측\n",
        "y_pred = clf.predict(X_test)\n",
        "accuracy = accuracy_score(y_test, y_pred)\n",
        "\n",
        "#정확도 출력\n",
        "print(f\"Decision Tree Classifier Accuracy:{accuracy:.4f}\")"
      ]
    },
    {
      "cell_type": "markdown",
      "metadata": {
        "id": "nupACezmdmbO"
      },
      "source": [
        "## 문제 2: 결정 트리의 max_depth 설정하기\n",
        "- `DecisionTreeClassifier(max_depth=3)`로 모델을 학습하세요.\n",
        "- `max_depth=3`을 설정했을 때와 설정하지 않았을 때의 성능을 비교하세요."
      ]
    },
    {
      "cell_type": "code",
      "execution_count": null,
      "metadata": {
        "colab": {
          "base_uri": "https://localhost:8080/"
        },
        "id": "P1DAsRlvdmbO",
        "outputId": "06ef7f4d-7493-4ae5-f3df-2281869e0940"
      },
      "outputs": [
        {
          "output_type": "stream",
          "name": "stdout",
          "text": [
            "default Accuracy:0.8417\n",
            "max_depth = 3 Accuracy:0.8417\n"
          ]
        }
      ],
      "source": [
        "# 문제 2: 결정 트리의 max_depth 설정하기\n",
        "# 답안\n",
        "\n",
        "#max_depth = 3 설정 X\n",
        "clf_default = DecisionTreeClassifier(random_state = 42)\n",
        "clf_default.fit(X_train, y_train)\n",
        "\n",
        "y_pred_default = clf_default.predict(X_test)\n",
        "accuracy_default = accuracy_score(y_test, y_pred_default)\n",
        "print(f\"default Accuracy:{accuracy_default:.4f}\")\n",
        "\n",
        "\n",
        "#max_depth = 3 설정\n",
        "clf_depth = DecisionTreeClassifier(max_depth = 3, random_state = 42)\n",
        "clf_depth.fit(X_train, y_train)\n",
        "\n",
        "y_pred_depth = clf_depth.predict(X_test)\n",
        "accuracy_depth = accuracy_score(y_test, y_pred_depth)\n",
        "print(f\"max_depth = 3 Accuracy:{accuracy_default:.4f}\")"
      ]
    },
    {
      "cell_type": "markdown",
      "metadata": {
        "id": "fDztPeLIdmbO"
      },
      "source": [
        "## 문제 3: 피처 중요도 출력\n",
        "- 학습된 결정 트리 모델에서 각 피처의 중요도를 출력하세요."
      ]
    },
    {
      "cell_type": "code",
      "execution_count": null,
      "metadata": {
        "colab": {
          "base_uri": "https://localhost:8080/"
        },
        "id": "eS4KGW5mdmbO",
        "outputId": "9f3da941-e09f-49c6-ac9c-377ef303a630"
      },
      "outputs": [
        {
          "output_type": "stream",
          "name": "stdout",
          "text": [
            "Feature Importances: [0.         0.         0.00887071 0.00879473 0.00372281 0.06186624\n",
            " 0.         0.         0.         0.00292376 0.03167032 0.\n",
            " 0.00915329 0.00103113 0.00351319 0.00197203 0.00151764 0.00123735\n",
            " 0.01607867 0.01031511 0.04876271 0.10218427 0.         0.00103113\n",
            " 0.00153196 0.00077334 0.06868146 0.06456474 0.01061157 0.\n",
            " 0.00470776 0.         0.         0.05952415 0.00366745 0.0077273\n",
            " 0.08259308 0.01595139 0.0046714  0.         0.         0.\n",
            " 0.12712724 0.04639961 0.         0.00235686 0.01637011 0.\n",
            " 0.         0.00077334 0.00970623 0.01066063 0.00349863 0.00447832\n",
            " 0.01724102 0.         0.         0.         0.00963409 0.00201069\n",
            " 0.06260576 0.03400693 0.00524193 0.0082379 ]\n"
          ]
        }
      ],
      "source": [
        "# 문제 3: 피처 중요도 출력\n",
        "clf = DecisionTreeClassifier(random_state = 42)\n",
        "clf.fit(X_train, y_train)\n",
        "print(\"Feature Importances:\", clf.feature_importances_)"
      ]
    },
    {
      "cell_type": "markdown",
      "metadata": {
        "id": "kNF2UEX4dmbO"
      },
      "source": [
        "## 문제 4: train_test_split 비율 변경\n",
        "- `train_test_split`을 사용하여 학습 데이터와 테스트 데이터를 **70:30** 비율로 나누세요.\n",
        "- 기존의 80:20 비율과 비교하여 정확도를 출력하세요."
      ]
    },
    {
      "cell_type": "code",
      "execution_count": null,
      "metadata": {
        "colab": {
          "base_uri": "https://localhost:8080/"
        },
        "id": "xjARhe1qdmbP",
        "outputId": "3be75192-a98f-4919-ff68-fc7b3e7181de"
      },
      "outputs": [
        {
          "output_type": "stream",
          "name": "stdout",
          "text": [
            "70:30 Accuracy:0.8463\n",
            "80:20 Accuracy:0.8528\n"
          ]
        }
      ],
      "source": [
        "# 문제 4: train_test_split 비율 변경\n",
        "# 70:30\n",
        "X_train, X_test, y_train, y_test = train_test_split(X, y, test_size=0.3, random_state=42)\n",
        "model = DecisionTreeClassifier()\n",
        "model.fit(X_train, y_train)\n",
        "\n",
        "y_pred = model.predict(X_test)\n",
        "accuracy = accuracy_score(y_test, y_pred)\n",
        "print(f\"70:30 Accuracy:{accuracy:.4f}\")\n",
        "\n",
        "#80:20\n",
        "X_train, X_test, y_train, y_test = train_test_split(X, y, test_size=0.2, random_state=42)\n",
        "model = DecisionTreeClassifier()\n",
        "model.fit(X_train, y_train)\n",
        "\n",
        "y_pred = model.predict(X_test)\n",
        "accuracy = accuracy_score(y_test, y_pred)\n",
        "print(f\"80:20 Accuracy:{accuracy:.4f}\")\n"
      ]
    },
    {
      "cell_type": "markdown",
      "metadata": {
        "vscode": {
          "languageId": "plaintext"
        },
        "id": "SwYlo65fdmbP"
      },
      "source": [
        "## 문제 5: GridSearchCV를 활용한 최적 하이퍼파라미터 찾기\n",
        "- `GridSearchCV`를 사용하여 `max_depth`와 `min_samples_split`에 대한 최적의 하이퍼파라미터를 찾으세요.\n",
        "- 최적의 하이퍼파라미터와 최고 정확도를 출력하세요."
      ]
    },
    {
      "cell_type": "code",
      "execution_count": null,
      "metadata": {
        "colab": {
          "base_uri": "https://localhost:8080/"
        },
        "id": "Ji3rCOiwdmbP",
        "outputId": "a8ab56a6-eca3-4295-ddee-580b6a27bbc2"
      },
      "outputs": [
        {
          "output_type": "stream",
          "name": "stdout",
          "text": [
            "Best Parameters: {'max_depth': 10, 'min_samples_split': 2}\n",
            "Best Score: 0.8392445799457995\n"
          ]
        }
      ],
      "source": [
        "# 문제 5: GridSearchCV를 활용한 최적 하이퍼파라미터 찾기\n",
        "from sklearn.model_selection import GridSearchCV\n",
        "\n",
        "params = {'max_depth':[3,5,10],\n",
        "          'min_samples_split':[2,5,10]}\n",
        "\n",
        "#GridSearch\n",
        "grid_search = GridSearchCV(DecisionTreeClassifier(), params, cv=5, scoring = 'accuracy')\n",
        "grid_search.fit(X_train, y_train)\n",
        "\n",
        "#최적의 하이퍼 파라미터\n",
        "best_params = grid_search.best_params_\n",
        "print(\"Best Parameters:\", best_params)\n",
        "\n",
        "#최고 정확도\n",
        "best_score = grid_search.best_score_\n",
        "print(\"Best Score:\", best_score)"
      ]
    },
    {
      "cell_type": "markdown",
      "metadata": {
        "id": "bvzSE399dmbP"
      },
      "source": [
        "# **2. 앙상블**"
      ]
    },
    {
      "cell_type": "markdown",
      "metadata": {
        "id": "IvtfgbssdmbP"
      },
      "source": [
        "## **1) wine 데이터셋 로드 및 훈련/테스트 분리**\n",
        "wine 데이터를 불러온 후, 훈련 세트와 테스트 세트로 나눠주세요.\n",
        "*   test_size = 0.25\n",
        "*   random_state = 11"
      ]
    },
    {
      "cell_type": "code",
      "execution_count": null,
      "metadata": {
        "id": "RsIVciSsdmbP"
      },
      "outputs": [],
      "source": [
        "from sklearn.datasets import load_wine\n",
        "from sklearn.model_selection import train_test_split\n",
        "\n",
        "# 데이터 로드 및 분리\n",
        "## 답안 ##\n",
        "wine = load_wine()\n",
        "X_train, X_test, y_train , y_test = train_test_split(wine.data, wine.target, test_size = 0.25, random_state = 11)"
      ]
    },
    {
      "cell_type": "markdown",
      "metadata": {
        "id": "Q2dCQ9xIdmbP"
      },
      "source": [
        "## **2) SVC, RandomForest, GradientBoosting 모델 학습 및 정확도 평가**\n",
        "다음 모델을 사용해 개별 학습/예측/정확도 평가를 진행하세요.\n",
        "*   서포트 벡터 머신: probability=True\n",
        "*   랜덤 포레스트: n_estimators=100, random_state=11\n",
        "*   GradientBoostingClassifier: random_state=11\n",
        "\n",
        "\n"
      ]
    },
    {
      "cell_type": "code",
      "execution_count": null,
      "metadata": {
        "colab": {
          "base_uri": "https://localhost:8080/"
        },
        "id": "mBkwo2PSdmbQ",
        "outputId": "277fe1ea-f01c-41d8-9019-2217c544c50b"
      },
      "outputs": [
        {
          "output_type": "stream",
          "name": "stdout",
          "text": [
            "SVC Accuracy: 0.8\n",
            "RandomForest Accuracy: 0.9777777777777777\n",
            "GradientBoostingClassifier Accuracy: 0.9555555555555556\n"
          ]
        }
      ],
      "source": [
        "from sklearn.svm import SVC\n",
        "from sklearn.ensemble import RandomForestClassifier, GradientBoostingClassifier\n",
        "from sklearn.metrics import accuracy_score\n",
        "\n",
        "# 모델 정의\n",
        "## 답안 ##\n",
        "\n",
        "#SVC\n",
        "svc = SVC(probability = True)\n",
        "svc.fit(X_train, y_train)\n",
        "y_pred_svc = svc.predict(X_test)\n",
        "accuracy_svc = accuracy_score(y_test, y_pred_svc)\n",
        "print(\"SVC Accuracy:\", accuracy_svc)\n",
        "\n",
        "#RandomForest\n",
        "rf = RandomForestClassifier(n_estimators = 100, random_state = 11)\n",
        "rf.fit(X_train, y_train)\n",
        "y_pred_rf = rf.predict(X_test)\n",
        "accuracy_rf = accuracy_score(y_test, y_pred_rf)\n",
        "print(\"RandomForest Accuracy:\", accuracy_rf)\n",
        "\n",
        "#GradientBoostingClassifier\n",
        "gb = GradientBoostingClassifier(random_state = 11)\n",
        "gb.fit(X_train, y_train)\n",
        "y_pred_gb = gb.predict(X_test)\n",
        "accuracy_gb = accuracy_score(y_test, y_pred_gb)\n",
        "print(\"GradientBoostingClassifier Accuracy:\", accuracy_gb)"
      ]
    },
    {
      "cell_type": "markdown",
      "metadata": {
        "id": "kyCu1ILsdmbQ"
      },
      "source": [
        "## **3) 하드 보팅 분류기 생성 및 평가**\n",
        "위에서 만든 모델 3개를 기반으로 하드 보팅 방식의 분류기를 만들고, 학습 및 테스트 정확도를 출력하세요."
      ]
    },
    {
      "cell_type": "code",
      "execution_count": null,
      "metadata": {
        "colab": {
          "base_uri": "https://localhost:8080/"
        },
        "id": "ti_hjeTjdmbQ",
        "outputId": "f1d1f280-eb94-42ec-d729-8770281c7892"
      },
      "outputs": [
        {
          "output_type": "stream",
          "name": "stdout",
          "text": [
            "Hard Voting Accuracy: 0.9555555555555556\n"
          ]
        }
      ],
      "source": [
        "from sklearn.ensemble import VotingClassifier\n",
        "\n",
        "# 하드 보팅\n",
        "## 답안 ##\n",
        "\n",
        "hard_clf = VotingClassifier(estimators = [('svc', svc), ('rf', rf), ('gb', gb)], voting = 'hard')\n",
        "hard_clf.fit(X_train, y_train)\n",
        "y_pred_hard = hard_clf.predict(X_test)\n",
        "\n",
        "print(\"Hard Voting Accuracy:\", accuracy_score(y_test, y_pred_hard))"
      ]
    },
    {
      "cell_type": "markdown",
      "metadata": {
        "id": "RBe-CzkmdmbQ"
      },
      "source": [
        "## **4) 소프트 보팅 분류기 생성 및 평가**\n",
        "같은 모델 3개로 소프트 보팅 방식의 분류기를 만들어서 학습/평가하세요."
      ]
    },
    {
      "cell_type": "code",
      "execution_count": null,
      "metadata": {
        "colab": {
          "base_uri": "https://localhost:8080/"
        },
        "id": "B691iIrwdmbQ",
        "outputId": "e28968b1-6c60-4d9d-ea61-8a7dd8de645f"
      },
      "outputs": [
        {
          "output_type": "stream",
          "name": "stdout",
          "text": [
            "Soft Voting Accuracy: 0.9555555555555556\n"
          ]
        }
      ],
      "source": [
        "# 소프트 보팅\n",
        "## 답안 ##\n",
        "soft_clf = VotingClassifier(estimators = [('svc', svc), ('rf', rf), ('gb', gb)], voting = 'soft')\n",
        "soft_clf.fit(X_train, y_train)\n",
        "y_pred_soft = soft_clf.predict(X_test)\n",
        "\n",
        "print(\"Soft Voting Accuracy:\", accuracy_score(y_test, y_pred_soft))"
      ]
    },
    {
      "cell_type": "markdown",
      "metadata": {
        "id": "RtB25NwedmbQ"
      },
      "source": [
        "## **5) OOB 평가**\n",
        "다음 조건에 맞춰 BaggingClassifier를 사용하여 OOB 평가를 수행하세요.\n",
        "\n",
        "*   Base 모델: GradientBoostingClassifier()\n",
        "*   n_estimators = 50\n",
        "*   bootstrap=True\n",
        "\n",
        "OOB 점수를 출력하세요."
      ]
    },
    {
      "cell_type": "code",
      "execution_count": null,
      "metadata": {
        "colab": {
          "base_uri": "https://localhost:8080/"
        },
        "id": "HYWCgD9jdmbQ",
        "outputId": "f7e3b108-1301-4fdd-f671-792b7caa0607"
      },
      "outputs": [
        {
          "output_type": "stream",
          "name": "stdout",
          "text": [
            "OOB Score: 0.9548872180451128\n"
          ]
        }
      ],
      "source": [
        "from sklearn.ensemble import BaggingClassifier\n",
        "\n",
        "## 답안 ##\n",
        "\n",
        "bag_clf = BaggingClassifier(GradientBoostingClassifier(), n_estimators=50, bootstrap=True, oob_score=True)\n",
        "bag_clf.fit(X_train, y_train)\n",
        "print(\"OOB Score:\", bag_clf.oob_score_)"
      ]
    },
    {
      "cell_type": "markdown",
      "metadata": {
        "id": "kPh9intkdmbQ"
      },
      "source": [
        "# **3. 랜덤 포레스트(Random Forest)**"
      ]
    },
    {
      "cell_type": "markdown",
      "metadata": {
        "id": "eSOW2jGndmbQ"
      },
      "source": [
        "**1) 사이킷런의 load_wine 데이터셋을 RandomForestClassifier을 이용해 예측하시오.**"
      ]
    },
    {
      "cell_type": "code",
      "execution_count": null,
      "metadata": {
        "colab": {
          "base_uri": "https://localhost:8080/"
        },
        "id": "ZweZmqh6dmbQ",
        "outputId": "4a131f97-ad51-4529-8c1f-d861c0639221"
      },
      "outputs": [
        {
          "output_type": "stream",
          "name": "stdout",
          "text": [
            "랜덤 포레스트 정확도: 1.0000\n"
          ]
        }
      ],
      "source": [
        "# 필요한 라이브러리 임포트\n",
        "import numpy as np\n",
        "import pandas as pd\n",
        "from sklearn.datasets import load_wine\n",
        "from sklearn.model_selection import train_test_split\n",
        "from sklearn.ensemble import RandomForestClassifier\n",
        "from sklearn.metrics import accuracy_score\n",
        "\n",
        "# 데이터셋 로드\n",
        "wine = load_wine()\n",
        "X = wine.data\n",
        "y = wine.target\n",
        "\n",
        "# 데이터셋을 학습 세트와 테스트 세트로 분리(test_size=0.2, random_state=42)\n",
        "X_train, X_test, y_train, y_test = train_test_split(X, y, test_size = 0.2, random_state = 42)\n",
        "\n",
        "# 랜덤 포레스트 모델 생성 및 훈련\n",
        "model = RandomForestClassifier(n_estimators=100, random_state=42)\n",
        "model.fit(X_train, y_train)\n",
        "\n",
        "# 테스트 세트로 예측\n",
        "y_pred = model.predict(X_test)\n",
        "\n",
        "# 정확도 평가\n",
        "accuracy = accuracy_score(y_test, y_pred)\n",
        "print('랜덤 포레스트 정확도: {0:.4f}'.format(accuracy))"
      ]
    },
    {
      "cell_type": "markdown",
      "metadata": {
        "id": "NkC2zaKVdmbQ"
      },
      "source": [
        "**2) load_wine 데이터셋을 이용해 GradientBoostingClassifier 모델을 학습하고, GridSearchCV를 활용해 최적의 하이퍼 파라미터를 찾으시오.**\n",
        "\n",
        "✅ 조건\n",
        "1. 데이터셋: load_wine() 사용\n",
        "2. 훈련 데이터(80%) / 테스트 데이터(20%)로 분리\n",
        "3. 하이퍼파라미터 튜닝(GridSearchCV 사용)\n",
        "4. learning_rate: [0.01, 0.1, 0.2]\n",
        "   n_estimators: [100, 200, 300]\n",
        "   max_depth: [3, 5, 7]\n",
        "5. 최적의 하이퍼파라미터를 찾은 후 모델 학습 & 평가\n",
        "6. 테스트 데이터에서 정확도를 출력\n",
        "\n",
        "✅ 참고사항\n",
        "\n",
        "실행 시간이 오래 소요될 수 있습니다!"
      ]
    },
    {
      "cell_type": "code",
      "execution_count": 2,
      "metadata": {
        "id": "VrsZsftrdmbQ",
        "colab": {
          "base_uri": "https://localhost:8080/"
        },
        "outputId": "bf76fb60-bb09-4265-dc56-f9fe5560a0a4"
      },
      "outputs": [
        {
          "output_type": "stream",
          "name": "stdout",
          "text": [
            "최적 하이퍼파라미터:\n",
            " {'learning_rate': 0.2, 'max_depth': 3, 'n_estimators': 100}\n",
            "예측 정확도: 0.9444\n"
          ]
        }
      ],
      "source": [
        "# 필요한 라이브러리 임포트\n",
        "from sklearn.datasets import load_wine\n",
        "from sklearn.model_selection import train_test_split, GridSearchCV\n",
        "from sklearn.ensemble import GradientBoostingClassifier\n",
        "from sklearn.metrics import accuracy_score\n",
        "\n",
        "# 데이터셋 로드\n",
        "wine = load_wine()\n",
        "X = wine.data\n",
        "y = wine.target\n",
        "\n",
        "# 훈련 세트와 테스트 세트로 분리(test_size=0.2, random_state=42)\n",
        "X_train, X_test, y_train, y_test = train_test_split(X,y, test_size = 0.2, random_state = 42)\n",
        "\n",
        "# 하이퍼파라미터 그리드 설정\n",
        "params = {'learning_rate': [0.01, 0.1, 0.2],\n",
        "          'n_estimators': [100, 200, 300],\n",
        "          'max_depth': [3, 5, 7]\n",
        "}\n",
        "\n",
        "# GradientBoostingClassifier 객체 생성 후 GridSearchCV 수행\n",
        "gb_clf = GradientBoostingClassifier(random_state=42)\n",
        "grid_cv = GridSearchCV(gb_clf, param_grid=params, cv=5, n_jobs=-1)\n",
        "\n",
        "# 모델 학습\n",
        "grid_cv.fit(X_train, y_train)\n",
        "\n",
        "# 최적 하이퍼파라미터 출력\n",
        "print('최적 하이퍼파라미터:\\n', grid_cv.best_params_)\n",
        "\n",
        "# 최적 모델로 테스트 데이터 예측\n",
        "y_pred = grid_cv.best_estimator_.predict(X_test)\n",
        "\n",
        "\n",
        "# 정확도 출력\n",
        "accuracy = accuracy_score(y_test, y_pred)\n",
        "print('예측 정확도: {0:.4f}'.format(accuracy))\n"
      ]
    },
    {
      "cell_type": "markdown",
      "metadata": {
        "id": "ynBlqZVWdmbR"
      },
      "source": [
        "## **서포트 벡터 머신(SVM)**"
      ]
    },
    {
      "cell_type": "markdown",
      "metadata": {
        "id": "zEZorIvGdmbR"
      },
      "source": [
        "**1) 가우시안 RBF 커널을 사용하여 gamma 값이 1이고, 하이퍼파라미터 C의 값이 0.001인 SVM 분류기를 만드시오.**\n"
      ]
    },
    {
      "cell_type": "code",
      "execution_count": 4,
      "metadata": {
        "id": "Aw3c7JVTdmbR",
        "colab": {
          "base_uri": "https://localhost:8080/",
          "height": 155
        },
        "outputId": "2b421c7c-9dd2-4122-d146-2b67b521515c"
      },
      "outputs": [
        {
          "output_type": "execute_result",
          "data": {
            "text/plain": [
              "Pipeline(steps=[('scaler', StandardScaler()),\n",
              "                ('svm_clf', SVC(C=0.001, gamma=1))])"
            ],
            "text/html": [
              "<style>#sk-container-id-1 {\n",
              "  /* Definition of color scheme common for light and dark mode */\n",
              "  --sklearn-color-text: #000;\n",
              "  --sklearn-color-text-muted: #666;\n",
              "  --sklearn-color-line: gray;\n",
              "  /* Definition of color scheme for unfitted estimators */\n",
              "  --sklearn-color-unfitted-level-0: #fff5e6;\n",
              "  --sklearn-color-unfitted-level-1: #f6e4d2;\n",
              "  --sklearn-color-unfitted-level-2: #ffe0b3;\n",
              "  --sklearn-color-unfitted-level-3: chocolate;\n",
              "  /* Definition of color scheme for fitted estimators */\n",
              "  --sklearn-color-fitted-level-0: #f0f8ff;\n",
              "  --sklearn-color-fitted-level-1: #d4ebff;\n",
              "  --sklearn-color-fitted-level-2: #b3dbfd;\n",
              "  --sklearn-color-fitted-level-3: cornflowerblue;\n",
              "\n",
              "  /* Specific color for light theme */\n",
              "  --sklearn-color-text-on-default-background: var(--sg-text-color, var(--theme-code-foreground, var(--jp-content-font-color1, black)));\n",
              "  --sklearn-color-background: var(--sg-background-color, var(--theme-background, var(--jp-layout-color0, white)));\n",
              "  --sklearn-color-border-box: var(--sg-text-color, var(--theme-code-foreground, var(--jp-content-font-color1, black)));\n",
              "  --sklearn-color-icon: #696969;\n",
              "\n",
              "  @media (prefers-color-scheme: dark) {\n",
              "    /* Redefinition of color scheme for dark theme */\n",
              "    --sklearn-color-text-on-default-background: var(--sg-text-color, var(--theme-code-foreground, var(--jp-content-font-color1, white)));\n",
              "    --sklearn-color-background: var(--sg-background-color, var(--theme-background, var(--jp-layout-color0, #111)));\n",
              "    --sklearn-color-border-box: var(--sg-text-color, var(--theme-code-foreground, var(--jp-content-font-color1, white)));\n",
              "    --sklearn-color-icon: #878787;\n",
              "  }\n",
              "}\n",
              "\n",
              "#sk-container-id-1 {\n",
              "  color: var(--sklearn-color-text);\n",
              "}\n",
              "\n",
              "#sk-container-id-1 pre {\n",
              "  padding: 0;\n",
              "}\n",
              "\n",
              "#sk-container-id-1 input.sk-hidden--visually {\n",
              "  border: 0;\n",
              "  clip: rect(1px 1px 1px 1px);\n",
              "  clip: rect(1px, 1px, 1px, 1px);\n",
              "  height: 1px;\n",
              "  margin: -1px;\n",
              "  overflow: hidden;\n",
              "  padding: 0;\n",
              "  position: absolute;\n",
              "  width: 1px;\n",
              "}\n",
              "\n",
              "#sk-container-id-1 div.sk-dashed-wrapped {\n",
              "  border: 1px dashed var(--sklearn-color-line);\n",
              "  margin: 0 0.4em 0.5em 0.4em;\n",
              "  box-sizing: border-box;\n",
              "  padding-bottom: 0.4em;\n",
              "  background-color: var(--sklearn-color-background);\n",
              "}\n",
              "\n",
              "#sk-container-id-1 div.sk-container {\n",
              "  /* jupyter's `normalize.less` sets `[hidden] { display: none; }`\n",
              "     but bootstrap.min.css set `[hidden] { display: none !important; }`\n",
              "     so we also need the `!important` here to be able to override the\n",
              "     default hidden behavior on the sphinx rendered scikit-learn.org.\n",
              "     See: https://github.com/scikit-learn/scikit-learn/issues/21755 */\n",
              "  display: inline-block !important;\n",
              "  position: relative;\n",
              "}\n",
              "\n",
              "#sk-container-id-1 div.sk-text-repr-fallback {\n",
              "  display: none;\n",
              "}\n",
              "\n",
              "div.sk-parallel-item,\n",
              "div.sk-serial,\n",
              "div.sk-item {\n",
              "  /* draw centered vertical line to link estimators */\n",
              "  background-image: linear-gradient(var(--sklearn-color-text-on-default-background), var(--sklearn-color-text-on-default-background));\n",
              "  background-size: 2px 100%;\n",
              "  background-repeat: no-repeat;\n",
              "  background-position: center center;\n",
              "}\n",
              "\n",
              "/* Parallel-specific style estimator block */\n",
              "\n",
              "#sk-container-id-1 div.sk-parallel-item::after {\n",
              "  content: \"\";\n",
              "  width: 100%;\n",
              "  border-bottom: 2px solid var(--sklearn-color-text-on-default-background);\n",
              "  flex-grow: 1;\n",
              "}\n",
              "\n",
              "#sk-container-id-1 div.sk-parallel {\n",
              "  display: flex;\n",
              "  align-items: stretch;\n",
              "  justify-content: center;\n",
              "  background-color: var(--sklearn-color-background);\n",
              "  position: relative;\n",
              "}\n",
              "\n",
              "#sk-container-id-1 div.sk-parallel-item {\n",
              "  display: flex;\n",
              "  flex-direction: column;\n",
              "}\n",
              "\n",
              "#sk-container-id-1 div.sk-parallel-item:first-child::after {\n",
              "  align-self: flex-end;\n",
              "  width: 50%;\n",
              "}\n",
              "\n",
              "#sk-container-id-1 div.sk-parallel-item:last-child::after {\n",
              "  align-self: flex-start;\n",
              "  width: 50%;\n",
              "}\n",
              "\n",
              "#sk-container-id-1 div.sk-parallel-item:only-child::after {\n",
              "  width: 0;\n",
              "}\n",
              "\n",
              "/* Serial-specific style estimator block */\n",
              "\n",
              "#sk-container-id-1 div.sk-serial {\n",
              "  display: flex;\n",
              "  flex-direction: column;\n",
              "  align-items: center;\n",
              "  background-color: var(--sklearn-color-background);\n",
              "  padding-right: 1em;\n",
              "  padding-left: 1em;\n",
              "}\n",
              "\n",
              "\n",
              "/* Toggleable style: style used for estimator/Pipeline/ColumnTransformer box that is\n",
              "clickable and can be expanded/collapsed.\n",
              "- Pipeline and ColumnTransformer use this feature and define the default style\n",
              "- Estimators will overwrite some part of the style using the `sk-estimator` class\n",
              "*/\n",
              "\n",
              "/* Pipeline and ColumnTransformer style (default) */\n",
              "\n",
              "#sk-container-id-1 div.sk-toggleable {\n",
              "  /* Default theme specific background. It is overwritten whether we have a\n",
              "  specific estimator or a Pipeline/ColumnTransformer */\n",
              "  background-color: var(--sklearn-color-background);\n",
              "}\n",
              "\n",
              "/* Toggleable label */\n",
              "#sk-container-id-1 label.sk-toggleable__label {\n",
              "  cursor: pointer;\n",
              "  display: flex;\n",
              "  width: 100%;\n",
              "  margin-bottom: 0;\n",
              "  padding: 0.5em;\n",
              "  box-sizing: border-box;\n",
              "  text-align: center;\n",
              "  align-items: start;\n",
              "  justify-content: space-between;\n",
              "  gap: 0.5em;\n",
              "}\n",
              "\n",
              "#sk-container-id-1 label.sk-toggleable__label .caption {\n",
              "  font-size: 0.6rem;\n",
              "  font-weight: lighter;\n",
              "  color: var(--sklearn-color-text-muted);\n",
              "}\n",
              "\n",
              "#sk-container-id-1 label.sk-toggleable__label-arrow:before {\n",
              "  /* Arrow on the left of the label */\n",
              "  content: \"▸\";\n",
              "  float: left;\n",
              "  margin-right: 0.25em;\n",
              "  color: var(--sklearn-color-icon);\n",
              "}\n",
              "\n",
              "#sk-container-id-1 label.sk-toggleable__label-arrow:hover:before {\n",
              "  color: var(--sklearn-color-text);\n",
              "}\n",
              "\n",
              "/* Toggleable content - dropdown */\n",
              "\n",
              "#sk-container-id-1 div.sk-toggleable__content {\n",
              "  max-height: 0;\n",
              "  max-width: 0;\n",
              "  overflow: hidden;\n",
              "  text-align: left;\n",
              "  /* unfitted */\n",
              "  background-color: var(--sklearn-color-unfitted-level-0);\n",
              "}\n",
              "\n",
              "#sk-container-id-1 div.sk-toggleable__content.fitted {\n",
              "  /* fitted */\n",
              "  background-color: var(--sklearn-color-fitted-level-0);\n",
              "}\n",
              "\n",
              "#sk-container-id-1 div.sk-toggleable__content pre {\n",
              "  margin: 0.2em;\n",
              "  border-radius: 0.25em;\n",
              "  color: var(--sklearn-color-text);\n",
              "  /* unfitted */\n",
              "  background-color: var(--sklearn-color-unfitted-level-0);\n",
              "}\n",
              "\n",
              "#sk-container-id-1 div.sk-toggleable__content.fitted pre {\n",
              "  /* unfitted */\n",
              "  background-color: var(--sklearn-color-fitted-level-0);\n",
              "}\n",
              "\n",
              "#sk-container-id-1 input.sk-toggleable__control:checked~div.sk-toggleable__content {\n",
              "  /* Expand drop-down */\n",
              "  max-height: 200px;\n",
              "  max-width: 100%;\n",
              "  overflow: auto;\n",
              "}\n",
              "\n",
              "#sk-container-id-1 input.sk-toggleable__control:checked~label.sk-toggleable__label-arrow:before {\n",
              "  content: \"▾\";\n",
              "}\n",
              "\n",
              "/* Pipeline/ColumnTransformer-specific style */\n",
              "\n",
              "#sk-container-id-1 div.sk-label input.sk-toggleable__control:checked~label.sk-toggleable__label {\n",
              "  color: var(--sklearn-color-text);\n",
              "  background-color: var(--sklearn-color-unfitted-level-2);\n",
              "}\n",
              "\n",
              "#sk-container-id-1 div.sk-label.fitted input.sk-toggleable__control:checked~label.sk-toggleable__label {\n",
              "  background-color: var(--sklearn-color-fitted-level-2);\n",
              "}\n",
              "\n",
              "/* Estimator-specific style */\n",
              "\n",
              "/* Colorize estimator box */\n",
              "#sk-container-id-1 div.sk-estimator input.sk-toggleable__control:checked~label.sk-toggleable__label {\n",
              "  /* unfitted */\n",
              "  background-color: var(--sklearn-color-unfitted-level-2);\n",
              "}\n",
              "\n",
              "#sk-container-id-1 div.sk-estimator.fitted input.sk-toggleable__control:checked~label.sk-toggleable__label {\n",
              "  /* fitted */\n",
              "  background-color: var(--sklearn-color-fitted-level-2);\n",
              "}\n",
              "\n",
              "#sk-container-id-1 div.sk-label label.sk-toggleable__label,\n",
              "#sk-container-id-1 div.sk-label label {\n",
              "  /* The background is the default theme color */\n",
              "  color: var(--sklearn-color-text-on-default-background);\n",
              "}\n",
              "\n",
              "/* On hover, darken the color of the background */\n",
              "#sk-container-id-1 div.sk-label:hover label.sk-toggleable__label {\n",
              "  color: var(--sklearn-color-text);\n",
              "  background-color: var(--sklearn-color-unfitted-level-2);\n",
              "}\n",
              "\n",
              "/* Label box, darken color on hover, fitted */\n",
              "#sk-container-id-1 div.sk-label.fitted:hover label.sk-toggleable__label.fitted {\n",
              "  color: var(--sklearn-color-text);\n",
              "  background-color: var(--sklearn-color-fitted-level-2);\n",
              "}\n",
              "\n",
              "/* Estimator label */\n",
              "\n",
              "#sk-container-id-1 div.sk-label label {\n",
              "  font-family: monospace;\n",
              "  font-weight: bold;\n",
              "  display: inline-block;\n",
              "  line-height: 1.2em;\n",
              "}\n",
              "\n",
              "#sk-container-id-1 div.sk-label-container {\n",
              "  text-align: center;\n",
              "}\n",
              "\n",
              "/* Estimator-specific */\n",
              "#sk-container-id-1 div.sk-estimator {\n",
              "  font-family: monospace;\n",
              "  border: 1px dotted var(--sklearn-color-border-box);\n",
              "  border-radius: 0.25em;\n",
              "  box-sizing: border-box;\n",
              "  margin-bottom: 0.5em;\n",
              "  /* unfitted */\n",
              "  background-color: var(--sklearn-color-unfitted-level-0);\n",
              "}\n",
              "\n",
              "#sk-container-id-1 div.sk-estimator.fitted {\n",
              "  /* fitted */\n",
              "  background-color: var(--sklearn-color-fitted-level-0);\n",
              "}\n",
              "\n",
              "/* on hover */\n",
              "#sk-container-id-1 div.sk-estimator:hover {\n",
              "  /* unfitted */\n",
              "  background-color: var(--sklearn-color-unfitted-level-2);\n",
              "}\n",
              "\n",
              "#sk-container-id-1 div.sk-estimator.fitted:hover {\n",
              "  /* fitted */\n",
              "  background-color: var(--sklearn-color-fitted-level-2);\n",
              "}\n",
              "\n",
              "/* Specification for estimator info (e.g. \"i\" and \"?\") */\n",
              "\n",
              "/* Common style for \"i\" and \"?\" */\n",
              "\n",
              ".sk-estimator-doc-link,\n",
              "a:link.sk-estimator-doc-link,\n",
              "a:visited.sk-estimator-doc-link {\n",
              "  float: right;\n",
              "  font-size: smaller;\n",
              "  line-height: 1em;\n",
              "  font-family: monospace;\n",
              "  background-color: var(--sklearn-color-background);\n",
              "  border-radius: 1em;\n",
              "  height: 1em;\n",
              "  width: 1em;\n",
              "  text-decoration: none !important;\n",
              "  margin-left: 0.5em;\n",
              "  text-align: center;\n",
              "  /* unfitted */\n",
              "  border: var(--sklearn-color-unfitted-level-1) 1pt solid;\n",
              "  color: var(--sklearn-color-unfitted-level-1);\n",
              "}\n",
              "\n",
              ".sk-estimator-doc-link.fitted,\n",
              "a:link.sk-estimator-doc-link.fitted,\n",
              "a:visited.sk-estimator-doc-link.fitted {\n",
              "  /* fitted */\n",
              "  border: var(--sklearn-color-fitted-level-1) 1pt solid;\n",
              "  color: var(--sklearn-color-fitted-level-1);\n",
              "}\n",
              "\n",
              "/* On hover */\n",
              "div.sk-estimator:hover .sk-estimator-doc-link:hover,\n",
              ".sk-estimator-doc-link:hover,\n",
              "div.sk-label-container:hover .sk-estimator-doc-link:hover,\n",
              ".sk-estimator-doc-link:hover {\n",
              "  /* unfitted */\n",
              "  background-color: var(--sklearn-color-unfitted-level-3);\n",
              "  color: var(--sklearn-color-background);\n",
              "  text-decoration: none;\n",
              "}\n",
              "\n",
              "div.sk-estimator.fitted:hover .sk-estimator-doc-link.fitted:hover,\n",
              ".sk-estimator-doc-link.fitted:hover,\n",
              "div.sk-label-container:hover .sk-estimator-doc-link.fitted:hover,\n",
              ".sk-estimator-doc-link.fitted:hover {\n",
              "  /* fitted */\n",
              "  background-color: var(--sklearn-color-fitted-level-3);\n",
              "  color: var(--sklearn-color-background);\n",
              "  text-decoration: none;\n",
              "}\n",
              "\n",
              "/* Span, style for the box shown on hovering the info icon */\n",
              ".sk-estimator-doc-link span {\n",
              "  display: none;\n",
              "  z-index: 9999;\n",
              "  position: relative;\n",
              "  font-weight: normal;\n",
              "  right: .2ex;\n",
              "  padding: .5ex;\n",
              "  margin: .5ex;\n",
              "  width: min-content;\n",
              "  min-width: 20ex;\n",
              "  max-width: 50ex;\n",
              "  color: var(--sklearn-color-text);\n",
              "  box-shadow: 2pt 2pt 4pt #999;\n",
              "  /* unfitted */\n",
              "  background: var(--sklearn-color-unfitted-level-0);\n",
              "  border: .5pt solid var(--sklearn-color-unfitted-level-3);\n",
              "}\n",
              "\n",
              ".sk-estimator-doc-link.fitted span {\n",
              "  /* fitted */\n",
              "  background: var(--sklearn-color-fitted-level-0);\n",
              "  border: var(--sklearn-color-fitted-level-3);\n",
              "}\n",
              "\n",
              ".sk-estimator-doc-link:hover span {\n",
              "  display: block;\n",
              "}\n",
              "\n",
              "/* \"?\"-specific style due to the `<a>` HTML tag */\n",
              "\n",
              "#sk-container-id-1 a.estimator_doc_link {\n",
              "  float: right;\n",
              "  font-size: 1rem;\n",
              "  line-height: 1em;\n",
              "  font-family: monospace;\n",
              "  background-color: var(--sklearn-color-background);\n",
              "  border-radius: 1rem;\n",
              "  height: 1rem;\n",
              "  width: 1rem;\n",
              "  text-decoration: none;\n",
              "  /* unfitted */\n",
              "  color: var(--sklearn-color-unfitted-level-1);\n",
              "  border: var(--sklearn-color-unfitted-level-1) 1pt solid;\n",
              "}\n",
              "\n",
              "#sk-container-id-1 a.estimator_doc_link.fitted {\n",
              "  /* fitted */\n",
              "  border: var(--sklearn-color-fitted-level-1) 1pt solid;\n",
              "  color: var(--sklearn-color-fitted-level-1);\n",
              "}\n",
              "\n",
              "/* On hover */\n",
              "#sk-container-id-1 a.estimator_doc_link:hover {\n",
              "  /* unfitted */\n",
              "  background-color: var(--sklearn-color-unfitted-level-3);\n",
              "  color: var(--sklearn-color-background);\n",
              "  text-decoration: none;\n",
              "}\n",
              "\n",
              "#sk-container-id-1 a.estimator_doc_link.fitted:hover {\n",
              "  /* fitted */\n",
              "  background-color: var(--sklearn-color-fitted-level-3);\n",
              "}\n",
              "</style><div id=\"sk-container-id-1\" class=\"sk-top-container\"><div class=\"sk-text-repr-fallback\"><pre>Pipeline(steps=[(&#x27;scaler&#x27;, StandardScaler()),\n",
              "                (&#x27;svm_clf&#x27;, SVC(C=0.001, gamma=1))])</pre><b>In a Jupyter environment, please rerun this cell to show the HTML representation or trust the notebook. <br />On GitHub, the HTML representation is unable to render, please try loading this page with nbviewer.org.</b></div><div class=\"sk-container\" hidden><div class=\"sk-item sk-dashed-wrapped\"><div class=\"sk-label-container\"><div class=\"sk-label fitted sk-toggleable\"><input class=\"sk-toggleable__control sk-hidden--visually\" id=\"sk-estimator-id-1\" type=\"checkbox\" ><label for=\"sk-estimator-id-1\" class=\"sk-toggleable__label fitted sk-toggleable__label-arrow\"><div><div>Pipeline</div></div><div><a class=\"sk-estimator-doc-link fitted\" rel=\"noreferrer\" target=\"_blank\" href=\"https://scikit-learn.org/1.6/modules/generated/sklearn.pipeline.Pipeline.html\">?<span>Documentation for Pipeline</span></a><span class=\"sk-estimator-doc-link fitted\">i<span>Fitted</span></span></div></label><div class=\"sk-toggleable__content fitted\"><pre>Pipeline(steps=[(&#x27;scaler&#x27;, StandardScaler()),\n",
              "                (&#x27;svm_clf&#x27;, SVC(C=0.001, gamma=1))])</pre></div> </div></div><div class=\"sk-serial\"><div class=\"sk-item\"><div class=\"sk-estimator fitted sk-toggleable\"><input class=\"sk-toggleable__control sk-hidden--visually\" id=\"sk-estimator-id-2\" type=\"checkbox\" ><label for=\"sk-estimator-id-2\" class=\"sk-toggleable__label fitted sk-toggleable__label-arrow\"><div><div>StandardScaler</div></div><div><a class=\"sk-estimator-doc-link fitted\" rel=\"noreferrer\" target=\"_blank\" href=\"https://scikit-learn.org/1.6/modules/generated/sklearn.preprocessing.StandardScaler.html\">?<span>Documentation for StandardScaler</span></a></div></label><div class=\"sk-toggleable__content fitted\"><pre>StandardScaler()</pre></div> </div></div><div class=\"sk-item\"><div class=\"sk-estimator fitted sk-toggleable\"><input class=\"sk-toggleable__control sk-hidden--visually\" id=\"sk-estimator-id-3\" type=\"checkbox\" ><label for=\"sk-estimator-id-3\" class=\"sk-toggleable__label fitted sk-toggleable__label-arrow\"><div><div>SVC</div></div><div><a class=\"sk-estimator-doc-link fitted\" rel=\"noreferrer\" target=\"_blank\" href=\"https://scikit-learn.org/1.6/modules/generated/sklearn.svm.SVC.html\">?<span>Documentation for SVC</span></a></div></label><div class=\"sk-toggleable__content fitted\"><pre>SVC(C=0.001, gamma=1)</pre></div> </div></div></div></div></div></div>"
            ]
          },
          "metadata": {},
          "execution_count": 4
        }
      ],
      "source": [
        "# 필요한 라이브러리 임포트\n",
        "from sklearn.pipeline import Pipeline\n",
        "from sklearn.preprocessing import StandardScaler\n",
        "from sklearn.preprocessing import PolynomialFeatures\n",
        "from sklearn.svm import SVC\n",
        "from sklearn.datasets import make_moons\n",
        "\n",
        "# moons 형태의 데이터 생성\n",
        "X, y = make_moons(n_samples=200, noise=0.25)\n",
        "\n",
        "# Pipeline 생성\n",
        "rbf_kernel_svm_clf = Pipeline([\n",
        "    (\"scaler\", StandardScaler()),\n",
        "    (\"svm_clf\", SVC(kernel = \"rbf\", gamma = 1, C = 0.001))\n",
        "])\n",
        "\n",
        "# 모델학습\n",
        "##답변##\n",
        "rbf_kernel_svm_clf.fit(X,y)"
      ]
    }
  ],
  "metadata": {
    "kernelspec": {
      "display_name": "base",
      "language": "python",
      "name": "python3"
    },
    "language_info": {
      "codemirror_mode": {
        "name": "ipython",
        "version": 3
      },
      "file_extension": ".py",
      "mimetype": "text/x-python",
      "name": "python",
      "nbconvert_exporter": "python",
      "pygments_lexer": "ipython3",
      "version": "3.12.7"
    },
    "colab": {
      "provenance": []
    }
  },
  "nbformat": 4,
  "nbformat_minor": 0
}